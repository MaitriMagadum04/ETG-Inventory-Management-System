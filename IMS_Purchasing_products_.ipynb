{
  "nbformat": 4,
  "nbformat_minor": 0,
  "metadata": {
    "colab": {
      "name": "IMS Purchasing products .ipynb",
      "provenance": [],
      "collapsed_sections": []
    },
    "kernelspec": {
      "name": "python3",
      "display_name": "Python 3"
    },
    "language_info": {
      "name": "python"
    }
  },
  "cells": [
    {
      "cell_type": "code",
      "metadata": {
        "id": "aFbPY68Z3zsS"
      },
      "source": [
        "import json\n",
        "fd=open(\"records.json\",'r')\n",
        "r=fd.read()\n",
        "fd.close()\n",
        "\n",
        "records=json.loads(r)"
      ],
      "execution_count": null,
      "outputs": []
    },
    {
      "cell_type": "code",
      "metadata": {
        "colab": {
          "base_uri": "https://localhost:8080/"
        },
        "id": "ulpbJJSt4_kr",
        "outputId": "55d990bb-1b90-438b-a314-862f9e8e6de6"
      },
      "source": [
        "print(\"****WELCOME TO INVENTORY****\\n\\n\")\n",
        "\n",
        "print(\"Please enter the details of the products \\nyou want to purchase\\n\")\n",
        "print(\"_\"*40)\n",
        "\n",
        "ui_p=input(\"Enter the product id :   \")\n",
        "ui_qn=int(input(\"Enter the quantity   :    \"))\n",
        "print(\"_\"*40)\n",
        "\n",
        "print(\"Product purchased : \",records[ui_p]['name'])\n",
        "print(\"Price : \",records[ui_p]['pr'])\n",
        "print(\"Category : \",records[ui_p]['cat'])\n",
        "print(\"EXP_DATE : \",records[ui_p]['exp_date'])\n",
        "print(\"Company : \",records[ui_p]['Company']) \n",
        "#for items before 1014\n",
        "#print(\"Company : \",records[ui_p]['company']) for items after 1014 \n",
        "print(\"_\"*40)\n",
        "print(\"Total Billing Amount : \",records[ui_p]['pr']*ui_qn)\n",
        "print(\"_\"*40)\n",
        "print(\"\\n\")\n",
        "print(\"****THANK YOU----VISIT AGAIN****\")\n",
        "\n",
        "\n",
        "records[ui_p]['qn']=records[ui_p]['qn']-ui_qn\n"
      ],
      "execution_count": 42,
      "outputs": [
        {
          "output_type": "stream",
          "name": "stdout",
          "text": [
            "****WELCOME TO INVENTORY****\n",
            "\n",
            "\n",
            "Please enter the details of the products \n",
            "you want to purchase\n",
            "\n",
            "________________________________________\n",
            "Enter the product id :   1002\n",
            "Enter the quantity   :    1\n",
            "________________________________________\n",
            "Product purchased :  Milk Cake\n",
            "Price :  800\n",
            "Category :  Cake\n",
            "EXP_DATE :  Best before six months\n",
            "Company :  Parle Britaniya\n",
            "________________________________________\n",
            "Total Billing Amount :  800\n",
            "________________________________________\n",
            "\n",
            "\n",
            "****THANK YOU----VISIT AGAIN****\n"
          ]
        }
      ]
    },
    {
      "cell_type": "code",
      "metadata": {
        "colab": {
          "base_uri": "https://localhost:8080/",
          "height": 35
        },
        "id": "cYw2wdLvHKeB",
        "outputId": "1e8be078-3b16-438f-b679-8b2665d58e05"
      },
      "source": [
        "import time\n",
        "time.ctime()"
      ],
      "execution_count": 43,
      "outputs": [
        {
          "output_type": "execute_result",
          "data": {
            "application/vnd.google.colaboratory.intrinsic+json": {
              "type": "string"
            },
            "text/plain": [
              "'Mon Sep  6 07:53:17 2021'"
            ]
          },
          "metadata": {},
          "execution_count": 43
        }
      ]
    },
    {
      "cell_type": "code",
      "metadata": {
        "id": "g3PUstKN865T"
      },
      "source": [
        "js=json.dumps(records)\n",
        "fd=open(\"afterpurchase.json\",'w')\n",
        "fd.write(js)\n",
        "fd.close()"
      ],
      "execution_count": 44,
      "outputs": []
    },
    {
      "cell_type": "code",
      "metadata": {
        "id": "axIY3AniBRsu"
      },
      "source": [
        "fd=open(\"afterpurchase.json\",'r')\n",
        "r=fd.read()\n",
        "fd.close()"
      ],
      "execution_count": 45,
      "outputs": []
    },
    {
      "cell_type": "code",
      "metadata": {
        "id": "Uxf15qjRP7Tv"
      },
      "source": [
        "sales=json.loads(r)"
      ],
      "execution_count": 46,
      "outputs": []
    },
    {
      "cell_type": "code",
      "metadata": {
        "id": "12jlKu-rP9VS"
      },
      "source": [
        "sales[str(len(sales))]={1:{'prod': ui_p, 'qn':ui_qn,'amount':records[ui_p]['pr']*ui_qn}}"
      ],
      "execution_count": 47,
      "outputs": []
    },
    {
      "cell_type": "code",
      "metadata": {
        "id": "kVBxalTuYA9F"
      },
      "source": [
        "sales"
      ],
      "execution_count": null,
      "outputs": []
    },
    {
      "cell_type": "code",
      "metadata": {
        "id": "VZAA9Pi8-Kgh"
      },
      "source": [
        "js=json.dumps(sales)\n",
        "fd=open(\"sales.json\",'w')\n",
        "fd.write(js)\n",
        "fd.close()"
      ],
      "execution_count": 41,
      "outputs": []
    },
    {
      "cell_type": "code",
      "metadata": {
        "id": "z6DW1h9y-lZP"
      },
      "source": [
        ""
      ],
      "execution_count": null,
      "outputs": []
    }
  ]
}