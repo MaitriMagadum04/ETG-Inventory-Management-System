{
  "nbformat": 4,
  "nbformat_minor": 0,
  "metadata": {
    "colab": {
      "name": "IMS .ipynb",
      "provenance": [],
      "collapsed_sections": []
    },
    "kernelspec": {
      "name": "python3",
      "display_name": "Python 3"
    },
    "language_info": {
      "name": "python"
    }
  },
  "cells": [
    {
      "cell_type": "code",
      "metadata": {
        "id": "JrVc3rcpAgdR"
      },
      "source": [
        "record = {\"1001\": {\"name\": \"Choco Cake\", \"qn\": 34, \"pr\": 100,\"cat\":\"Cake\",\"exp_date\":\"Best before six months\", \"Company\":\"Parle Britaniya\"}, \n",
        "          \"1002\": {\"name\": \"Milk Cake\", \"pr\": 800, \"qn\": 100,\"cat\":\"Cake\",\"exp_date\":\"Best before six months\", \"Company\":\"Parle Britaniya\"}, \n",
        "          \"1003\": {\"name\": \"Drink\", \"pr\": 85, \"qn\": 100,\"cat\":\"cooldrinks\",\"exp_date\":\"Best before six months\", \"Company\":\"Pep\"}, \n",
        "          \"1004\": {\"name\": \"Candy\", \"pr\": 5, \"qn\": 1000,\"cat\":\"Candies\",\"exp_date\":\"Best before six months\", \"Company\":\"Parle\"}, \n",
        "          \"1005\": {\"name\": \"Pen\", \"pr\": 20, \"qn\": 100,\"cat\":\"Stationary\",\"exp_date\":\"Best before six years\", \"Company\":\"Pentip\"}, \n",
        "          \"1006\": {\"name\": \"Honey Cake\", \"pr\": 50, \"qn\": 10,\"cat\":\"Cake\",\"exp_date\":\"Best before six months\", \"Company\":\"Parle Britaniya\"}, \n",
        "          \"1007\": {\"name\": \"Milk\", \"pr\": 15, \"qn\": 60,\"cat\":\"Drinks\",\"exp_date\":\"Best before six days\", \"Company\":\"nandini\"}, \n",
        "          \"1008\": {\"name\": \"Phone-Case\", \"pr\": 250, \"qn\": 50,\"cat\":\"Stationary\",\"exp_date\":\"Best before six years\", \"Company\":\"Par\"}, \n",
        "          \"1009\": {\"name\": \"Keychain\", \"pr\": 20, \"qn\": 100,\"cat\":\"Stationary\",\"exp_date\":\"Best before six years\", \"Company\":\"Nal\"},\n",
        "          \"1010\": {\"name\": \"clips\", \"pr\": 20, \"qn\": 100,\"cat\":\"Stationary\",\"exp_date\":\"Best before six months\", \"Company\":\"Pal\"},\n",
        "          \"1011\": {\"name\": \"Pencil\", \"pr\": 10, \"qn\": 1000,\"cat\":\"Stationary\",\"exp_date\":\"Best before six months\", \"Company\":\"NATARAJ\"},\n",
        "          \"1012\": {\"name\": \"Ice cream\", \"pr\": 100, \"qn\": 100,\"cat\":\"ice cream\",\"exp_date\":\"Best before six months\", \"Company\":\"oopss\"},\n",
        "          \"1013\": {\"name\": \"Parle-G\", \"pr\": 10, \"qn\": 2000,\"cat\":\"Biscuit\",\"exp_date\":\"Best before six years\", \"Company\":\"Parle Britaniya\"},\n",
        "          \"1014\": {\"name\": \"Cookies\", \"pr\": 20, \"qn\": 1000,\"cat\":\"Biscuit\",\"exp_date\":\"Best before six years\", \"Company\":\"Dark Fantesy\"}}"
      ],
      "execution_count": null,
      "outputs": []
    },
    {
      "cell_type": "code",
      "metadata": {
        "id": "-n0kerYNJwGY"
      },
      "source": [
        "import json"
      ],
      "execution_count": null,
      "outputs": []
    },
    {
      "cell_type": "code",
      "metadata": {
        "id": "mLFzuFwCKEPw"
      },
      "source": [
        "j=json.dumps(record)"
      ],
      "execution_count": null,
      "outputs": []
    },
    {
      "cell_type": "code",
      "metadata": {
        "colab": {
          "base_uri": "https://localhost:8080/",
          "height": 238
        },
        "id": "gquyQo2oKJsD",
        "outputId": "80d0469d-3bf0-46ed-9b8b-9bb16473f737"
      },
      "source": [
        "j"
      ],
      "execution_count": null,
      "outputs": [
        {
          "output_type": "execute_result",
          "data": {
            "application/vnd.google.colaboratory.intrinsic+json": {
              "type": "string"
            },
            "text/plain": [
              "'{\"1001\": {\"name\": \"Choco Cake\", \"qn\": 34, \"pr\": 100, \"cat\": \"Cake\", \"exp_date\": \"Best before six months\", \"Company\": \"Parle Britaniya\"}, \"1002\": {\"name\": \"Milk Cake\", \"pr\": 800, \"qn\": 100, \"cat\": \"Cake\", \"exp_date\": \"Best before six months\", \"Company\": \"Parle Britaniya\"}, \"1003\": {\"name\": \"Drink\", \"pr\": 85, \"qn\": 100, \"cat\": \"cooldrinks\", \"exp_date\": \"Best before six months\", \"Company\": \"Pep\"}, \"1004\": {\"name\": \"Candy\", \"pr\": 5, \"qn\": 1000, \"cat\": \"Candies\", \"exp_date\": \"Best before six months\", \"Company\": \"Parle\"}, \"1005\": {\"name\": \"Pen\", \"pr\": 20, \"qn\": 100, \"cat\": \"Stationary\", \"exp_date\": \"Best before six years\", \"Company\": \"Pentip\"}, \"1006\": {\"name\": \"Honey Cake\", \"pr\": 50, \"qn\": 10, \"cat\": \"Cake\", \"exp_date\": \"Best before six months\", \"Company\": \"Parle Britaniya\"}, \"1007\": {\"name\": \"Milk\", \"pr\": 15, \"qn\": 60, \"cat\": \"Drinks\", \"exp_date\": \"Best before six days\", \"Company\": \"nandini\"}, \"1008\": {\"name\": \"Phone-Case\", \"pr\": 250, \"qn\": 50, \"cat\": \"Stationary\", \"exp_date\": \"Best before six years\", \"Company\": \"Par\"}, \"1009\": {\"name\": \"Keychain\", \"pr\": 20, \"qn\": 100, \"cat\": \"Stationary\", \"exp_date\": \"Best before six years\", \"Company\": \"Nal\"}, \"1010\": {\"name\": \"clips\", \"pr\": 20, \"qn\": 100, \"cat\": \"Stationary\", \"exp_date\": \"Best before six months\", \"Company\": \"Pal\"}, \"1011\": {\"name\": \"Pencil\", \"pr\": 10, \"qn\": 1000, \"cat\": \"Stationary\", \"exp_date\": \"Best before six months\", \"Company\": \"NATARAJ\"}, \"1012\": {\"name\": \"Ice cream\", \"pr\": 100, \"qn\": 100, \"cat\": \"ice cream\", \"exp_date\": \"Best before six months\", \"Company\": \"oopss\"}, \"1013\": {\"name\": \"Parle-G\", \"pr\": 10, \"qn\": 2000, \"cat\": \"Biscuit\", \"exp_date\": \"Best before six years\", \"Company\": \"Parle Britaniya\"}, \"1014\": {\"name\": \"Cookies\", \"pr\": 20, \"qn\": 1000, \"cat\": \"Biscuit\", \"exp_date\": \"Best before six years\", \"Company\": \"Dark Fantesy\"}}'"
            ]
          },
          "metadata": {},
          "execution_count": 4
        }
      ]
    },
    {
      "cell_type": "code",
      "metadata": {
        "id": "f67BcJ23KKpn"
      },
      "source": [
        "fd=open(\"record.json\",'w')\n",
        "fd.write(j)\n",
        "fd.close()"
      ],
      "execution_count": null,
      "outputs": []
    },
    {
      "cell_type": "code",
      "metadata": {
        "id": "09XjJ38FLHx9"
      },
      "source": [
        "fd=open(\"record.json\",'r')\n",
        "r=fd.read()\n",
        "fd.close()\n",
        "\n",
        "records=json.loads(r)"
      ],
      "execution_count": null,
      "outputs": []
    },
    {
      "cell_type": "code",
      "metadata": {
        "id": "btC7y0tLLRH0",
        "colab": {
          "base_uri": "https://localhost:8080/",
          "height": 238
        },
        "outputId": "db8c988e-b685-4e4b-a4d7-f3da788290dd"
      },
      "source": [
        "r"
      ],
      "execution_count": null,
      "outputs": [
        {
          "output_type": "execute_result",
          "data": {
            "application/vnd.google.colaboratory.intrinsic+json": {
              "type": "string"
            },
            "text/plain": [
              "'{\"1001\": {\"name\": \"Choco Cake\", \"qn\": 34, \"pr\": 100, \"cat\": \"Cake\", \"exp_date\": \"Best before six months\", \"Company\": \"Parle Britaniya\"}, \"1002\": {\"name\": \"Milk Cake\", \"pr\": 800, \"qn\": 100, \"cat\": \"Cake\", \"exp_date\": \"Best before six months\", \"Company\": \"Parle Britaniya\"}, \"1003\": {\"name\": \"Drink\", \"pr\": 85, \"qn\": 100, \"cat\": \"cooldrinks\", \"exp_date\": \"Best before six months\", \"Company\": \"Pep\"}, \"1004\": {\"name\": \"Candy\", \"pr\": 5, \"qn\": 1000, \"cat\": \"Candies\", \"exp_date\": \"Best before six months\", \"Company\": \"Parle\"}, \"1005\": {\"name\": \"Pen\", \"pr\": 20, \"qn\": 100, \"cat\": \"Stationary\", \"exp_date\": \"Best before six years\", \"Company\": \"Pentip\"}, \"1006\": {\"name\": \"Honey Cake\", \"pr\": 50, \"qn\": 10, \"cat\": \"Cake\", \"exp_date\": \"Best before six months\", \"Company\": \"Parle Britaniya\"}, \"1007\": {\"name\": \"Milk\", \"pr\": 15, \"qn\": 60, \"cat\": \"Drinks\", \"exp_date\": \"Best before six days\", \"Company\": \"nandini\"}, \"1008\": {\"name\": \"Phone-Case\", \"pr\": 250, \"qn\": 50, \"cat\": \"Stationary\", \"exp_date\": \"Best before six years\", \"Company\": \"Par\"}, \"1009\": {\"name\": \"Keychain\", \"pr\": 20, \"qn\": 100, \"cat\": \"Stationary\", \"exp_date\": \"Best before six years\", \"Company\": \"Nal\"}, \"1010\": {\"name\": \"clips\", \"pr\": 20, \"qn\": 100, \"cat\": \"Stationary\", \"exp_date\": \"Best before six months\", \"Company\": \"Pal\"}, \"1011\": {\"name\": \"Pencil\", \"pr\": 10, \"qn\": 1000, \"cat\": \"Stationary\", \"exp_date\": \"Best before six months\", \"Company\": \"NATARAJ\"}, \"1012\": {\"name\": \"Ice cream\", \"pr\": 100, \"qn\": 100, \"cat\": \"ice cream\", \"exp_date\": \"Best before six months\", \"Company\": \"oopss\"}, \"1013\": {\"name\": \"Parle-G\", \"pr\": 10, \"qn\": 2000, \"cat\": \"Biscuit\", \"exp_date\": \"Best before six years\", \"Company\": \"Parle Britaniya\"}, \"1014\": {\"name\": \"Cookies\", \"pr\": 20, \"qn\": 1000, \"cat\": \"Biscuit\", \"exp_date\": \"Best before six years\", \"Company\": \"Dark Fantesy\"}}'"
            ]
          },
          "metadata": {},
          "execution_count": 7
        }
      ]
    },
    {
      "cell_type": "code",
      "metadata": {
        "id": "gqE4oTmpQVZj"
      },
      "source": [
        "print(\"****Adding new items to the inventory****\\n\\n\")\n",
        "\n",
        "P_id=str(input(\"Enter product id:   \"))\n",
        "name=str(input(\"Enter the Name of the Product:    \"))\n",
        "pr=int(input(\"Enter Price:    \"))\n",
        "qn=int(input(\"Enter Quantity:   \"))\n",
        "cat=str(input(\"Enter the category:    \"))\n",
        "exp_date=str(input(\"Enter exp_date:   \"))\n",
        "company=str(input(\"Enter the Name of the Company:   \"))\n",
        "\n",
        "records[P_id]={'name':name,'pr':pr,'qn':qn, 'cat':cat, 'exp_date':exp_date,'company':company}\n",
        "print(\"\\n\\n\")\n",
        "print(\"****Inventory is updated****\")"
      ],
      "execution_count": null,
      "outputs": []
    },
    {
      "cell_type": "code",
      "metadata": {
        "id": "2vZBJnrswucm"
      },
      "source": [
        "records"
      ],
      "execution_count": null,
      "outputs": []
    },
    {
      "cell_type": "code",
      "metadata": {
        "id": "YyTHbsyRyjZl"
      },
      "source": [
        "js=json.dumps(records)\n",
        "fd=open(\"records.json\",'w')\n",
        "fd.write(js)\n",
        "fd.close()"
      ],
      "execution_count": null,
      "outputs": []
    },
    {
      "cell_type": "code",
      "metadata": {
        "id": "BBlhw3-t3WpA"
      },
      "source": [
        ""
      ],
      "execution_count": null,
      "outputs": []
    }
  ]
}